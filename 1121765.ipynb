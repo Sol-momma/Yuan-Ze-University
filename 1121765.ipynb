{
  "nbformat": 4,
  "nbformat_minor": 0,
  "metadata": {
    "colab": {
      "provenance": [],
      "authorship_tag": "ABX9TyNZXxp74WTjt0oYgcw9zJRj",
      "include_colab_link": true
    },
    "kernelspec": {
      "name": "python3",
      "display_name": "Python 3"
    },
    "language_info": {
      "name": "python"
    }
  },
  "cells": [
    {
      "cell_type": "markdown",
      "metadata": {
        "id": "view-in-github",
        "colab_type": "text"
      },
      "source": [
        "<a href=\"https://colab.research.google.com/github/Sol-momma/Yuan-Ze-University/blob/main/1121765.ipynb\" target=\"_parent\"><img src=\"https://colab.research.google.com/assets/colab-badge.svg\" alt=\"Open In Colab\"/></a>"
      ]
    },
    {
      "cell_type": "markdown",
      "source": [
        "# So Momma - 1121765"
      ],
      "metadata": {
        "id": "XMhAzP3xy0PU"
      }
    },
    {
      "cell_type": "code",
      "source": [
        "# Question1\n",
        "def bubble_sort_descending(arr):\n",
        "    n = len(arr)\n",
        "    for i in range(n):\n",
        "        for j in range(0, n-i-1):\n",
        "            if arr[j] < arr[j+1]:\n",
        "                arr[j], arr[j+1] = arr[j+1], arr[j]\n",
        "    return arr\n",
        "\n",
        "array1 = [12, 7, 19, 3, 5]\n",
        "sorted_array1 = bubble_sort_descending(array1)\n",
        "sorted_array1\n"
      ],
      "metadata": {
        "colab": {
          "base_uri": "https://localhost:8080/"
        },
        "id": "fpsJgMSz0Q7-",
        "outputId": "2bc2697e-e3ca-4552-db50-b3a9de3875e4"
      },
      "execution_count": 9,
      "outputs": [
        {
          "output_type": "execute_result",
          "data": {
            "text/plain": [
              "[19, 12, 7, 5, 3]"
            ]
          },
          "metadata": {},
          "execution_count": 9
        }
      ]
    },
    {
      "cell_type": "code",
      "source": [
        "# Question2\n",
        "def insertion_sort_ascending(arr):\n",
        "    for i in range(1, len(arr)):\n",
        "        key = arr[i]\n",
        "        j = i - 1\n",
        "        while j >= 0 and key < arr[j]:\n",
        "            arr[j + 1] = arr[j]\n",
        "            j -= 1\n",
        "        arr[j + 1] = key\n",
        "    return arr\n",
        "\n",
        "array2 = [8, -3, 12, -7, 5]\n",
        "sorted_array2 = insertion_sort_ascending(array2)\n",
        "sorted_array2\n"
      ],
      "metadata": {
        "colab": {
          "base_uri": "https://localhost:8080/"
        },
        "id": "7_VNE6210QyX",
        "outputId": "dfbd79a8-0145-41a7-dc4d-f223d0f742ec"
      },
      "execution_count": 10,
      "outputs": [
        {
          "output_type": "execute_result",
          "data": {
            "text/plain": [
              "[-7, -3, 5, 8, 12]"
            ]
          },
          "metadata": {},
          "execution_count": 10
        }
      ]
    },
    {
      "cell_type": "code",
      "source": [
        "# Question3\n",
        "def selection_sort_replace_negatives(arr):\n",
        "\n",
        "    arr = [0 if x < 0 else x for x in arr]\n",
        "\n",
        "    n = len(arr)\n",
        "    for i in range(n):\n",
        "        min_idx = i\n",
        "        for j in range(i + 1, n):\n",
        "            if arr[j] < arr[min_idx]:\n",
        "                min_idx = j\n",
        "        arr[i], arr[min_idx] = arr[min_idx], arr[i]\n",
        "    return arr\n",
        "\n",
        "array3 = [4, -3, 7, -1, 9]\n",
        "sorted_array3 = selection_sort_replace_negatives(array3)\n",
        "sorted_array3\n"
      ],
      "metadata": {
        "colab": {
          "base_uri": "https://localhost:8080/"
        },
        "id": "fz60sWfczuCa",
        "outputId": "a942dbd6-c832-4cf9-ce9c-af38ae19c146"
      },
      "execution_count": 6,
      "outputs": [
        {
          "output_type": "execute_result",
          "data": {
            "text/plain": [
              "[0, 0, 4, 7, 9]"
            ]
          },
          "metadata": {},
          "execution_count": 6
        }
      ]
    },
    {
      "cell_type": "code",
      "source": [
        "# Question4\n",
        "def merge_sort_even_first(arr):\n",
        "\n",
        "    even = [x for x in arr if x % 2 == 0]\n",
        "    odd = [x for x in arr if x % 2 != 0]\n",
        "\n",
        "    def merge_sort(arr):\n",
        "        if len(arr) > 1:\n",
        "            mid = len(arr) // 2\n",
        "            L = arr[:mid]\n",
        "            R = arr[mid:]\n",
        "            merge_sort(L)\n",
        "            merge_sort(R)\n",
        "            i = j = k = 0\n",
        "            while i < len(L) and j < len(R):\n",
        "                if L[i] < R[j]:\n",
        "                    arr[k] = L[i]\n",
        "                    i += 1\n",
        "                else:\n",
        "                    arr[k] = R[j]\n",
        "                    j += 1\n",
        "                k += 1\n",
        "            while i < len(L):\n",
        "                arr[k] = L[i]\n",
        "                i += 1\n",
        "                k += 1\n",
        "            while j < len(R):\n",
        "                arr[k] = R[j]\n",
        "                j += 1\n",
        "                k += 1\n",
        "        return arr\n",
        "\n",
        "    even_sorted = merge_sort(even)\n",
        "    odd_sorted = merge_sort(odd)\n",
        "    return even_sorted + odd_sorted\n",
        "\n",
        "array4 = [3, 4, 7, 2, 6, 5, 8, 1]\n",
        "sorted_array4 = merge_sort_even_first(array4)\n",
        "sorted_array4\n"
      ],
      "metadata": {
        "colab": {
          "base_uri": "https://localhost:8080/"
        },
        "id": "Gl19CDcJzwWV",
        "outputId": "5edcd180-97b1-46f1-d6d2-3d1fa0b3eb24"
      },
      "execution_count": 5,
      "outputs": [
        {
          "output_type": "execute_result",
          "data": {
            "text/plain": [
              "[2, 4, 6, 8, 1, 3, 5, 7]"
            ]
          },
          "metadata": {},
          "execution_count": 5
        }
      ]
    }
  ]
}